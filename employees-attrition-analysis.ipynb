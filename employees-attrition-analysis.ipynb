{
 "cells": [
  {
   "cell_type": "markdown",
   "id": "7ae9dc0c",
   "metadata": {
    "papermill": {
     "duration": 0.012422,
     "end_time": "2024-10-16T08:59:05.087665",
     "exception": false,
     "start_time": "2024-10-16T08:59:05.075243",
     "status": "completed"
    },
    "tags": []
   },
   "source": [
    "**Overview:**\n",
    "This project focuses on analyzing employee attrition to understand the factors that lead to turnover in the company. By leveraging data-driven insights, the analysis aims to identify key predictors of employee attrition, such as job satisfaction, compensation, and departmental differences. The goal is to provide actionable recommendations that can help the organization reduce turnover, retain talent, and improve overall employee satisfaction.\n",
    "\n",
    "***Objective:***\n",
    "\n",
    "The primary objective of this project is to identify the key factors influencing employee attrition. Specifically, the analysis aims to: Investigate the relationship between various employee attributes (e.g., job satisfaction, years at the company, salary) and the likelihood of attrition. Identify departments or roles with higher attrition rates. Predict employee attrition based on variables such as compensation and job satisfaction. Offer actionable insights and recommendations to reduce attrition and improve employee retention.\n",
    "\n",
    "# I have prepared some business questions:\n",
    "\n",
    "**What factors are most predictive of employee attrition (leaving the company)?**\n",
    "\n",
    "**Is there a relationship between job satisfaction and employee attrition?**\n",
    "\n",
    "**Which department has the highest employee attrition rate?**\n",
    "\n",
    "**How does the number of years at the company impact attrition?**\n",
    "\n",
    "**Can we predict attrition based on salary and compensation variables (e.g., monthly income, percent salary hike)?**"
   ]
  },
  {
   "cell_type": "code",
   "execution_count": 1,
   "id": "184b3fae",
   "metadata": {
    "_cell_guid": "b1076dfc-b9ad-4769-8c92-a6c4dae69d19",
    "_uuid": "8f2839f25d086af736a60e9eeb907d3b93b6e0e5",
    "execution": {
     "iopub.execute_input": "2024-10-16T08:59:05.114308Z",
     "iopub.status.busy": "2024-10-16T08:59:05.113889Z",
     "iopub.status.idle": "2024-10-16T08:59:08.596489Z",
     "shell.execute_reply": "2024-10-16T08:59:08.595217Z"
    },
    "papermill": {
     "duration": 3.500221,
     "end_time": "2024-10-16T08:59:08.599322",
     "exception": false,
     "start_time": "2024-10-16T08:59:05.099101",
     "status": "completed"
    },
    "tags": []
   },
   "outputs": [
    {
     "name": "stdout",
     "output_type": "stream",
     "text": [
      "/kaggle/input/ibm-hr-analytics-attrition-dataset/WA_Fn-UseC_-HR-Employee-Attrition.csv\n"
     ]
    }
   ],
   "source": [
    "# This Python 3 environment comes with many helpful analytics libraries installed\n",
    "# It is defined by the kaggle/python Docker image: https://github.com/kaggle/docker-python\n",
    "# For example, here's several helpful packages to load\n",
    "\n",
    "import numpy as np # linear algebra\n",
    "import pandas as pd # data processing, CSV file I/O (e.g. pd.read_csv)\n",
    "\n",
    "# Input data files are available in the read-only \"../input/\" directory\n",
    "# For example, running this (by clicking run or pressing Shift+Enter) will list all files under the input directory\n",
    "\n",
    "import os\n",
    "for dirname, _, filenames in os.walk('/kaggle/input'):\n",
    "    for filename in filenames:\n",
    "        print(os.path.join(dirname, filename))\n",
    "        \n",
    "import matplotlib.pyplot as plt\n",
    "import seaborn as sns\n",
    "from sklearn.model_selection import train_test_split\n",
    "from sklearn.linear_model import LogisticRegression \n",
    "from sklearn.preprocessing import LabelEncoder\n",
    "from sklearn.metrics import classification_report, confusion_matrix, roc_auc_score\n",
    "from sklearn.ensemble import RandomForestClassifier\n",
    "\n",
    "\n",
    "# You can write up to 20GB to the current directory (/kaggle/working/) that gets preserved as output when you create a version using \"Save & Run All\" \n",
    "# You can also write temporary files to /kaggle/temp/, but they won't be saved outside of the current session"
   ]
  },
  {
   "cell_type": "code",
   "execution_count": 2,
   "id": "b6215a5f",
   "metadata": {
    "execution": {
     "iopub.execute_input": "2024-10-16T08:59:08.624426Z",
     "iopub.status.busy": "2024-10-16T08:59:08.623856Z",
     "iopub.status.idle": "2024-10-16T08:59:08.662178Z",
     "shell.execute_reply": "2024-10-16T08:59:08.660863Z"
    },
    "papermill": {
     "duration": 0.053566,
     "end_time": "2024-10-16T08:59:08.664816",
     "exception": false,
     "start_time": "2024-10-16T08:59:08.611250",
     "status": "completed"
    },
    "tags": []
   },
   "outputs": [],
   "source": [
    "df = pd.read_csv('/kaggle/input/ibm-hr-analytics-attrition-dataset/WA_Fn-UseC_-HR-Employee-Attrition.csv')"
   ]
  },
  {
   "cell_type": "code",
   "execution_count": 3,
   "id": "cf31f2ae",
   "metadata": {
    "execution": {
     "iopub.execute_input": "2024-10-16T08:59:08.690159Z",
     "iopub.status.busy": "2024-10-16T08:59:08.689703Z",
     "iopub.status.idle": "2024-10-16T08:59:08.723704Z",
     "shell.execute_reply": "2024-10-16T08:59:08.722574Z"
    },
    "papermill": {
     "duration": 0.049477,
     "end_time": "2024-10-16T08:59:08.726382",
     "exception": false,
     "start_time": "2024-10-16T08:59:08.676905",
     "status": "completed"
    },
    "tags": []
   },
   "outputs": [
    {
     "data": {
      "text/html": [
       "<div>\n",
       "<style scoped>\n",
       "    .dataframe tbody tr th:only-of-type {\n",
       "        vertical-align: middle;\n",
       "    }\n",
       "\n",
       "    .dataframe tbody tr th {\n",
       "        vertical-align: top;\n",
       "    }\n",
       "\n",
       "    .dataframe thead th {\n",
       "        text-align: right;\n",
       "    }\n",
       "</style>\n",
       "<table border=\"1\" class=\"dataframe\">\n",
       "  <thead>\n",
       "    <tr style=\"text-align: right;\">\n",
       "      <th></th>\n",
       "      <th>Age</th>\n",
       "      <th>Attrition</th>\n",
       "      <th>BusinessTravel</th>\n",
       "      <th>DailyRate</th>\n",
       "      <th>Department</th>\n",
       "      <th>DistanceFromHome</th>\n",
       "      <th>Education</th>\n",
       "      <th>EducationField</th>\n",
       "      <th>EmployeeCount</th>\n",
       "      <th>EmployeeNumber</th>\n",
       "      <th>...</th>\n",
       "      <th>RelationshipSatisfaction</th>\n",
       "      <th>StandardHours</th>\n",
       "      <th>StockOptionLevel</th>\n",
       "      <th>TotalWorkingYears</th>\n",
       "      <th>TrainingTimesLastYear</th>\n",
       "      <th>WorkLifeBalance</th>\n",
       "      <th>YearsAtCompany</th>\n",
       "      <th>YearsInCurrentRole</th>\n",
       "      <th>YearsSinceLastPromotion</th>\n",
       "      <th>YearsWithCurrManager</th>\n",
       "    </tr>\n",
       "  </thead>\n",
       "  <tbody>\n",
       "    <tr>\n",
       "      <th>0</th>\n",
       "      <td>41</td>\n",
       "      <td>Yes</td>\n",
       "      <td>Travel_Rarely</td>\n",
       "      <td>1102</td>\n",
       "      <td>Sales</td>\n",
       "      <td>1</td>\n",
       "      <td>2</td>\n",
       "      <td>Life Sciences</td>\n",
       "      <td>1</td>\n",
       "      <td>1</td>\n",
       "      <td>...</td>\n",
       "      <td>1</td>\n",
       "      <td>80</td>\n",
       "      <td>0</td>\n",
       "      <td>8</td>\n",
       "      <td>0</td>\n",
       "      <td>1</td>\n",
       "      <td>6</td>\n",
       "      <td>4</td>\n",
       "      <td>0</td>\n",
       "      <td>5</td>\n",
       "    </tr>\n",
       "    <tr>\n",
       "      <th>1</th>\n",
       "      <td>49</td>\n",
       "      <td>No</td>\n",
       "      <td>Travel_Frequently</td>\n",
       "      <td>279</td>\n",
       "      <td>Research &amp; Development</td>\n",
       "      <td>8</td>\n",
       "      <td>1</td>\n",
       "      <td>Life Sciences</td>\n",
       "      <td>1</td>\n",
       "      <td>2</td>\n",
       "      <td>...</td>\n",
       "      <td>4</td>\n",
       "      <td>80</td>\n",
       "      <td>1</td>\n",
       "      <td>10</td>\n",
       "      <td>3</td>\n",
       "      <td>3</td>\n",
       "      <td>10</td>\n",
       "      <td>7</td>\n",
       "      <td>1</td>\n",
       "      <td>7</td>\n",
       "    </tr>\n",
       "    <tr>\n",
       "      <th>2</th>\n",
       "      <td>37</td>\n",
       "      <td>Yes</td>\n",
       "      <td>Travel_Rarely</td>\n",
       "      <td>1373</td>\n",
       "      <td>Research &amp; Development</td>\n",
       "      <td>2</td>\n",
       "      <td>2</td>\n",
       "      <td>Other</td>\n",
       "      <td>1</td>\n",
       "      <td>4</td>\n",
       "      <td>...</td>\n",
       "      <td>2</td>\n",
       "      <td>80</td>\n",
       "      <td>0</td>\n",
       "      <td>7</td>\n",
       "      <td>3</td>\n",
       "      <td>3</td>\n",
       "      <td>0</td>\n",
       "      <td>0</td>\n",
       "      <td>0</td>\n",
       "      <td>0</td>\n",
       "    </tr>\n",
       "    <tr>\n",
       "      <th>3</th>\n",
       "      <td>33</td>\n",
       "      <td>No</td>\n",
       "      <td>Travel_Frequently</td>\n",
       "      <td>1392</td>\n",
       "      <td>Research &amp; Development</td>\n",
       "      <td>3</td>\n",
       "      <td>4</td>\n",
       "      <td>Life Sciences</td>\n",
       "      <td>1</td>\n",
       "      <td>5</td>\n",
       "      <td>...</td>\n",
       "      <td>3</td>\n",
       "      <td>80</td>\n",
       "      <td>0</td>\n",
       "      <td>8</td>\n",
       "      <td>3</td>\n",
       "      <td>3</td>\n",
       "      <td>8</td>\n",
       "      <td>7</td>\n",
       "      <td>3</td>\n",
       "      <td>0</td>\n",
       "    </tr>\n",
       "    <tr>\n",
       "      <th>4</th>\n",
       "      <td>27</td>\n",
       "      <td>No</td>\n",
       "      <td>Travel_Rarely</td>\n",
       "      <td>591</td>\n",
       "      <td>Research &amp; Development</td>\n",
       "      <td>2</td>\n",
       "      <td>1</td>\n",
       "      <td>Medical</td>\n",
       "      <td>1</td>\n",
       "      <td>7</td>\n",
       "      <td>...</td>\n",
       "      <td>4</td>\n",
       "      <td>80</td>\n",
       "      <td>1</td>\n",
       "      <td>6</td>\n",
       "      <td>3</td>\n",
       "      <td>3</td>\n",
       "      <td>2</td>\n",
       "      <td>2</td>\n",
       "      <td>2</td>\n",
       "      <td>2</td>\n",
       "    </tr>\n",
       "  </tbody>\n",
       "</table>\n",
       "<p>5 rows × 35 columns</p>\n",
       "</div>"
      ],
      "text/plain": [
       "   Age Attrition     BusinessTravel  DailyRate              Department  \\\n",
       "0   41       Yes      Travel_Rarely       1102                   Sales   \n",
       "1   49        No  Travel_Frequently        279  Research & Development   \n",
       "2   37       Yes      Travel_Rarely       1373  Research & Development   \n",
       "3   33        No  Travel_Frequently       1392  Research & Development   \n",
       "4   27        No      Travel_Rarely        591  Research & Development   \n",
       "\n",
       "   DistanceFromHome  Education EducationField  EmployeeCount  EmployeeNumber  \\\n",
       "0                 1          2  Life Sciences              1               1   \n",
       "1                 8          1  Life Sciences              1               2   \n",
       "2                 2          2          Other              1               4   \n",
       "3                 3          4  Life Sciences              1               5   \n",
       "4                 2          1        Medical              1               7   \n",
       "\n",
       "   ...  RelationshipSatisfaction StandardHours  StockOptionLevel  \\\n",
       "0  ...                         1            80                 0   \n",
       "1  ...                         4            80                 1   \n",
       "2  ...                         2            80                 0   \n",
       "3  ...                         3            80                 0   \n",
       "4  ...                         4            80                 1   \n",
       "\n",
       "   TotalWorkingYears  TrainingTimesLastYear WorkLifeBalance  YearsAtCompany  \\\n",
       "0                  8                      0               1               6   \n",
       "1                 10                      3               3              10   \n",
       "2                  7                      3               3               0   \n",
       "3                  8                      3               3               8   \n",
       "4                  6                      3               3               2   \n",
       "\n",
       "  YearsInCurrentRole  YearsSinceLastPromotion  YearsWithCurrManager  \n",
       "0                  4                        0                     5  \n",
       "1                  7                        1                     7  \n",
       "2                  0                        0                     0  \n",
       "3                  7                        3                     0  \n",
       "4                  2                        2                     2  \n",
       "\n",
       "[5 rows x 35 columns]"
      ]
     },
     "execution_count": 3,
     "metadata": {},
     "output_type": "execute_result"
    }
   ],
   "source": [
    "df.head(5)"
   ]
  },
  {
   "cell_type": "code",
   "execution_count": 4,
   "id": "c88faada",
   "metadata": {
    "execution": {
     "iopub.execute_input": "2024-10-16T08:59:08.752211Z",
     "iopub.status.busy": "2024-10-16T08:59:08.751787Z",
     "iopub.status.idle": "2024-10-16T08:59:08.761468Z",
     "shell.execute_reply": "2024-10-16T08:59:08.760236Z"
    },
    "papermill": {
     "duration": 0.025426,
     "end_time": "2024-10-16T08:59:08.763779",
     "exception": false,
     "start_time": "2024-10-16T08:59:08.738353",
     "status": "completed"
    },
    "tags": []
   },
   "outputs": [
    {
     "data": {
      "text/plain": [
       "0       Yes\n",
       "1        No\n",
       "2       Yes\n",
       "3        No\n",
       "4        No\n",
       "       ... \n",
       "1465     No\n",
       "1466     No\n",
       "1467     No\n",
       "1468     No\n",
       "1469     No\n",
       "Name: Attrition, Length: 1470, dtype: object"
      ]
     },
     "execution_count": 4,
     "metadata": {},
     "output_type": "execute_result"
    }
   ],
   "source": [
    "df['Attrition']"
   ]
  },
  {
   "cell_type": "code",
   "execution_count": 5,
   "id": "2f2e1cdc",
   "metadata": {
    "execution": {
     "iopub.execute_input": "2024-10-16T08:59:08.791531Z",
     "iopub.status.busy": "2024-10-16T08:59:08.791068Z",
     "iopub.status.idle": "2024-10-16T08:59:08.798940Z",
     "shell.execute_reply": "2024-10-16T08:59:08.797515Z"
    },
    "papermill": {
     "duration": 0.024895,
     "end_time": "2024-10-16T08:59:08.801778",
     "exception": false,
     "start_time": "2024-10-16T08:59:08.776883",
     "status": "completed"
    },
    "tags": []
   },
   "outputs": [
    {
     "data": {
      "text/plain": [
       "(1470, 35)"
      ]
     },
     "execution_count": 5,
     "metadata": {},
     "output_type": "execute_result"
    }
   ],
   "source": [
    "df.shape"
   ]
  },
  {
   "cell_type": "code",
   "execution_count": 6,
   "id": "69c130fd",
   "metadata": {
    "execution": {
     "iopub.execute_input": "2024-10-16T08:59:08.827769Z",
     "iopub.status.busy": "2024-10-16T08:59:08.827353Z",
     "iopub.status.idle": "2024-10-16T08:59:08.853213Z",
     "shell.execute_reply": "2024-10-16T08:59:08.851936Z"
    },
    "papermill": {
     "duration": 0.042397,
     "end_time": "2024-10-16T08:59:08.856255",
     "exception": false,
     "start_time": "2024-10-16T08:59:08.813858",
     "status": "completed"
    },
    "tags": []
   },
   "outputs": [
    {
     "name": "stdout",
     "output_type": "stream",
     "text": [
      "<class 'pandas.core.frame.DataFrame'>\n",
      "RangeIndex: 1470 entries, 0 to 1469\n",
      "Data columns (total 35 columns):\n",
      " #   Column                    Non-Null Count  Dtype \n",
      "---  ------                    --------------  ----- \n",
      " 0   Age                       1470 non-null   int64 \n",
      " 1   Attrition                 1470 non-null   object\n",
      " 2   BusinessTravel            1470 non-null   object\n",
      " 3   DailyRate                 1470 non-null   int64 \n",
      " 4   Department                1470 non-null   object\n",
      " 5   DistanceFromHome          1470 non-null   int64 \n",
      " 6   Education                 1470 non-null   int64 \n",
      " 7   EducationField            1470 non-null   object\n",
      " 8   EmployeeCount             1470 non-null   int64 \n",
      " 9   EmployeeNumber            1470 non-null   int64 \n",
      " 10  EnvironmentSatisfaction   1470 non-null   int64 \n",
      " 11  Gender                    1470 non-null   object\n",
      " 12  HourlyRate                1470 non-null   int64 \n",
      " 13  JobInvolvement            1470 non-null   int64 \n",
      " 14  JobLevel                  1470 non-null   int64 \n",
      " 15  JobRole                   1470 non-null   object\n",
      " 16  JobSatisfaction           1470 non-null   int64 \n",
      " 17  MaritalStatus             1470 non-null   object\n",
      " 18  MonthlyIncome             1470 non-null   int64 \n",
      " 19  MonthlyRate               1470 non-null   int64 \n",
      " 20  NumCompaniesWorked        1470 non-null   int64 \n",
      " 21  Over18                    1470 non-null   object\n",
      " 22  OverTime                  1470 non-null   object\n",
      " 23  PercentSalaryHike         1470 non-null   int64 \n",
      " 24  PerformanceRating         1470 non-null   int64 \n",
      " 25  RelationshipSatisfaction  1470 non-null   int64 \n",
      " 26  StandardHours             1470 non-null   int64 \n",
      " 27  StockOptionLevel          1470 non-null   int64 \n",
      " 28  TotalWorkingYears         1470 non-null   int64 \n",
      " 29  TrainingTimesLastYear     1470 non-null   int64 \n",
      " 30  WorkLifeBalance           1470 non-null   int64 \n",
      " 31  YearsAtCompany            1470 non-null   int64 \n",
      " 32  YearsInCurrentRole        1470 non-null   int64 \n",
      " 33  YearsSinceLastPromotion   1470 non-null   int64 \n",
      " 34  YearsWithCurrManager      1470 non-null   int64 \n",
      "dtypes: int64(26), object(9)\n",
      "memory usage: 402.1+ KB\n"
     ]
    }
   ],
   "source": [
    "df.info()"
   ]
  },
  {
   "cell_type": "code",
   "execution_count": 7,
   "id": "be8c6680",
   "metadata": {
    "execution": {
     "iopub.execute_input": "2024-10-16T08:59:08.883192Z",
     "iopub.status.busy": "2024-10-16T08:59:08.882747Z",
     "iopub.status.idle": "2024-10-16T08:59:08.892033Z",
     "shell.execute_reply": "2024-10-16T08:59:08.890951Z"
    },
    "papermill": {
     "duration": 0.02559,
     "end_time": "2024-10-16T08:59:08.894486",
     "exception": false,
     "start_time": "2024-10-16T08:59:08.868896",
     "status": "completed"
    },
    "tags": []
   },
   "outputs": [
    {
     "data": {
      "text/plain": [
       "0                        Sales\n",
       "1       Research & Development\n",
       "2       Research & Development\n",
       "3       Research & Development\n",
       "4       Research & Development\n",
       "                 ...          \n",
       "1465    Research & Development\n",
       "1466    Research & Development\n",
       "1467    Research & Development\n",
       "1468                     Sales\n",
       "1469    Research & Development\n",
       "Name: Department, Length: 1470, dtype: object"
      ]
     },
     "execution_count": 7,
     "metadata": {},
     "output_type": "execute_result"
    }
   ],
   "source": [
    "df['Department']"
   ]
  },
  {
   "cell_type": "code",
   "execution_count": 8,
   "id": "46bf967b",
   "metadata": {
    "execution": {
     "iopub.execute_input": "2024-10-16T08:59:08.920830Z",
     "iopub.status.busy": "2024-10-16T08:59:08.920435Z",
     "iopub.status.idle": "2024-10-16T08:59:08.930297Z",
     "shell.execute_reply": "2024-10-16T08:59:08.929236Z"
    },
    "papermill": {
     "duration": 0.025802,
     "end_time": "2024-10-16T08:59:08.932566",
     "exception": false,
     "start_time": "2024-10-16T08:59:08.906764",
     "status": "completed"
    },
    "tags": []
   },
   "outputs": [],
   "source": [
    "\n",
    "#Encoding categorical variables:\n",
    "label_encoder = LabelEncoder()\n",
    "\n",
    "#Converting Attrition, Gender, Over18 and Overtime into Binary:\n",
    "df['Attrition'] = label_encoder.fit_transform(df['Attrition'])  ##Yes = 1, No = 0\n",
    "df['Gender']  = label_encoder.fit_transform(df['Gender'])      ##Male = 1, Female = 0 \n",
    "df['Over18'] = label_encoder.fit_transform(df['Over18'])      ##Y=1\n",
    "df['OverTime'] = label_encoder.fit_transform(df['OverTime']) ##Yes = 1, No= 0\n",
    "\n"
   ]
  },
  {
   "cell_type": "code",
   "execution_count": 9,
   "id": "40244124",
   "metadata": {
    "execution": {
     "iopub.execute_input": "2024-10-16T08:59:08.960108Z",
     "iopub.status.busy": "2024-10-16T08:59:08.958957Z",
     "iopub.status.idle": "2024-10-16T08:59:08.982027Z",
     "shell.execute_reply": "2024-10-16T08:59:08.980884Z"
    },
    "papermill": {
     "duration": 0.038979,
     "end_time": "2024-10-16T08:59:08.984374",
     "exception": false,
     "start_time": "2024-10-16T08:59:08.945395",
     "status": "completed"
    },
    "tags": []
   },
   "outputs": [
    {
     "data": {
      "text/html": [
       "<div>\n",
       "<style scoped>\n",
       "    .dataframe tbody tr th:only-of-type {\n",
       "        vertical-align: middle;\n",
       "    }\n",
       "\n",
       "    .dataframe tbody tr th {\n",
       "        vertical-align: top;\n",
       "    }\n",
       "\n",
       "    .dataframe thead th {\n",
       "        text-align: right;\n",
       "    }\n",
       "</style>\n",
       "<table border=\"1\" class=\"dataframe\">\n",
       "  <thead>\n",
       "    <tr style=\"text-align: right;\">\n",
       "      <th></th>\n",
       "      <th>Age</th>\n",
       "      <th>Attrition</th>\n",
       "      <th>BusinessTravel</th>\n",
       "      <th>DailyRate</th>\n",
       "      <th>Department</th>\n",
       "      <th>DistanceFromHome</th>\n",
       "      <th>Education</th>\n",
       "      <th>EducationField</th>\n",
       "      <th>EmployeeCount</th>\n",
       "      <th>EmployeeNumber</th>\n",
       "      <th>...</th>\n",
       "      <th>RelationshipSatisfaction</th>\n",
       "      <th>StandardHours</th>\n",
       "      <th>StockOptionLevel</th>\n",
       "      <th>TotalWorkingYears</th>\n",
       "      <th>TrainingTimesLastYear</th>\n",
       "      <th>WorkLifeBalance</th>\n",
       "      <th>YearsAtCompany</th>\n",
       "      <th>YearsInCurrentRole</th>\n",
       "      <th>YearsSinceLastPromotion</th>\n",
       "      <th>YearsWithCurrManager</th>\n",
       "    </tr>\n",
       "  </thead>\n",
       "  <tbody>\n",
       "    <tr>\n",
       "      <th>0</th>\n",
       "      <td>41</td>\n",
       "      <td>1</td>\n",
       "      <td>Travel_Rarely</td>\n",
       "      <td>1102</td>\n",
       "      <td>Sales</td>\n",
       "      <td>1</td>\n",
       "      <td>2</td>\n",
       "      <td>Life Sciences</td>\n",
       "      <td>1</td>\n",
       "      <td>1</td>\n",
       "      <td>...</td>\n",
       "      <td>1</td>\n",
       "      <td>80</td>\n",
       "      <td>0</td>\n",
       "      <td>8</td>\n",
       "      <td>0</td>\n",
       "      <td>1</td>\n",
       "      <td>6</td>\n",
       "      <td>4</td>\n",
       "      <td>0</td>\n",
       "      <td>5</td>\n",
       "    </tr>\n",
       "    <tr>\n",
       "      <th>1</th>\n",
       "      <td>49</td>\n",
       "      <td>0</td>\n",
       "      <td>Travel_Frequently</td>\n",
       "      <td>279</td>\n",
       "      <td>Research &amp; Development</td>\n",
       "      <td>8</td>\n",
       "      <td>1</td>\n",
       "      <td>Life Sciences</td>\n",
       "      <td>1</td>\n",
       "      <td>2</td>\n",
       "      <td>...</td>\n",
       "      <td>4</td>\n",
       "      <td>80</td>\n",
       "      <td>1</td>\n",
       "      <td>10</td>\n",
       "      <td>3</td>\n",
       "      <td>3</td>\n",
       "      <td>10</td>\n",
       "      <td>7</td>\n",
       "      <td>1</td>\n",
       "      <td>7</td>\n",
       "    </tr>\n",
       "    <tr>\n",
       "      <th>2</th>\n",
       "      <td>37</td>\n",
       "      <td>1</td>\n",
       "      <td>Travel_Rarely</td>\n",
       "      <td>1373</td>\n",
       "      <td>Research &amp; Development</td>\n",
       "      <td>2</td>\n",
       "      <td>2</td>\n",
       "      <td>Other</td>\n",
       "      <td>1</td>\n",
       "      <td>4</td>\n",
       "      <td>...</td>\n",
       "      <td>2</td>\n",
       "      <td>80</td>\n",
       "      <td>0</td>\n",
       "      <td>7</td>\n",
       "      <td>3</td>\n",
       "      <td>3</td>\n",
       "      <td>0</td>\n",
       "      <td>0</td>\n",
       "      <td>0</td>\n",
       "      <td>0</td>\n",
       "    </tr>\n",
       "    <tr>\n",
       "      <th>3</th>\n",
       "      <td>33</td>\n",
       "      <td>0</td>\n",
       "      <td>Travel_Frequently</td>\n",
       "      <td>1392</td>\n",
       "      <td>Research &amp; Development</td>\n",
       "      <td>3</td>\n",
       "      <td>4</td>\n",
       "      <td>Life Sciences</td>\n",
       "      <td>1</td>\n",
       "      <td>5</td>\n",
       "      <td>...</td>\n",
       "      <td>3</td>\n",
       "      <td>80</td>\n",
       "      <td>0</td>\n",
       "      <td>8</td>\n",
       "      <td>3</td>\n",
       "      <td>3</td>\n",
       "      <td>8</td>\n",
       "      <td>7</td>\n",
       "      <td>3</td>\n",
       "      <td>0</td>\n",
       "    </tr>\n",
       "    <tr>\n",
       "      <th>4</th>\n",
       "      <td>27</td>\n",
       "      <td>0</td>\n",
       "      <td>Travel_Rarely</td>\n",
       "      <td>591</td>\n",
       "      <td>Research &amp; Development</td>\n",
       "      <td>2</td>\n",
       "      <td>1</td>\n",
       "      <td>Medical</td>\n",
       "      <td>1</td>\n",
       "      <td>7</td>\n",
       "      <td>...</td>\n",
       "      <td>4</td>\n",
       "      <td>80</td>\n",
       "      <td>1</td>\n",
       "      <td>6</td>\n",
       "      <td>3</td>\n",
       "      <td>3</td>\n",
       "      <td>2</td>\n",
       "      <td>2</td>\n",
       "      <td>2</td>\n",
       "      <td>2</td>\n",
       "    </tr>\n",
       "  </tbody>\n",
       "</table>\n",
       "<p>5 rows × 35 columns</p>\n",
       "</div>"
      ],
      "text/plain": [
       "   Age  Attrition     BusinessTravel  DailyRate              Department  \\\n",
       "0   41          1      Travel_Rarely       1102                   Sales   \n",
       "1   49          0  Travel_Frequently        279  Research & Development   \n",
       "2   37          1      Travel_Rarely       1373  Research & Development   \n",
       "3   33          0  Travel_Frequently       1392  Research & Development   \n",
       "4   27          0      Travel_Rarely        591  Research & Development   \n",
       "\n",
       "   DistanceFromHome  Education EducationField  EmployeeCount  EmployeeNumber  \\\n",
       "0                 1          2  Life Sciences              1               1   \n",
       "1                 8          1  Life Sciences              1               2   \n",
       "2                 2          2          Other              1               4   \n",
       "3                 3          4  Life Sciences              1               5   \n",
       "4                 2          1        Medical              1               7   \n",
       "\n",
       "   ...  RelationshipSatisfaction  StandardHours  StockOptionLevel  \\\n",
       "0  ...                         1             80                 0   \n",
       "1  ...                         4             80                 1   \n",
       "2  ...                         2             80                 0   \n",
       "3  ...                         3             80                 0   \n",
       "4  ...                         4             80                 1   \n",
       "\n",
       "   TotalWorkingYears  TrainingTimesLastYear WorkLifeBalance  YearsAtCompany  \\\n",
       "0                  8                      0               1               6   \n",
       "1                 10                      3               3              10   \n",
       "2                  7                      3               3               0   \n",
       "3                  8                      3               3               8   \n",
       "4                  6                      3               3               2   \n",
       "\n",
       "  YearsInCurrentRole  YearsSinceLastPromotion  YearsWithCurrManager  \n",
       "0                  4                        0                     5  \n",
       "1                  7                        1                     7  \n",
       "2                  0                        0                     0  \n",
       "3                  7                        3                     0  \n",
       "4                  2                        2                     2  \n",
       "\n",
       "[5 rows x 35 columns]"
      ]
     },
     "execution_count": 9,
     "metadata": {},
     "output_type": "execute_result"
    }
   ],
   "source": [
    "##One-Hot Encoding only to existing categorical columns:\n",
    "#Re-define the columns list based on the actual columns in your dataset after encoding:\n",
    "categorical_cols = ['BusinessTravel', 'Department', 'EducationField', 'JobRole', 'MaritalStatus']\n",
    "df.head(5)"
   ]
  },
  {
   "cell_type": "code",
   "execution_count": 10,
   "id": "e1bcd92f",
   "metadata": {
    "execution": {
     "iopub.execute_input": "2024-10-16T08:59:09.011330Z",
     "iopub.status.busy": "2024-10-16T08:59:09.010898Z",
     "iopub.status.idle": "2024-10-16T08:59:09.040226Z",
     "shell.execute_reply": "2024-10-16T08:59:09.038893Z"
    },
    "papermill": {
     "duration": 0.046291,
     "end_time": "2024-10-16T08:59:09.043313",
     "exception": false,
     "start_time": "2024-10-16T08:59:08.997022",
     "status": "completed"
    },
    "tags": []
   },
   "outputs": [
    {
     "data": {
      "text/html": [
       "<div>\n",
       "<style scoped>\n",
       "    .dataframe tbody tr th:only-of-type {\n",
       "        vertical-align: middle;\n",
       "    }\n",
       "\n",
       "    .dataframe tbody tr th {\n",
       "        vertical-align: top;\n",
       "    }\n",
       "\n",
       "    .dataframe thead th {\n",
       "        text-align: right;\n",
       "    }\n",
       "</style>\n",
       "<table border=\"1\" class=\"dataframe\">\n",
       "  <thead>\n",
       "    <tr style=\"text-align: right;\">\n",
       "      <th></th>\n",
       "      <th>Age</th>\n",
       "      <th>Attrition</th>\n",
       "      <th>DailyRate</th>\n",
       "      <th>DistanceFromHome</th>\n",
       "      <th>Education</th>\n",
       "      <th>EmployeeCount</th>\n",
       "      <th>EmployeeNumber</th>\n",
       "      <th>EnvironmentSatisfaction</th>\n",
       "      <th>Gender</th>\n",
       "      <th>HourlyRate</th>\n",
       "      <th>...</th>\n",
       "      <th>JobRole_Human Resources</th>\n",
       "      <th>JobRole_Laboratory Technician</th>\n",
       "      <th>JobRole_Manager</th>\n",
       "      <th>JobRole_Manufacturing Director</th>\n",
       "      <th>JobRole_Research Director</th>\n",
       "      <th>JobRole_Research Scientist</th>\n",
       "      <th>JobRole_Sales Executive</th>\n",
       "      <th>JobRole_Sales Representative</th>\n",
       "      <th>MaritalStatus_Married</th>\n",
       "      <th>MaritalStatus_Single</th>\n",
       "    </tr>\n",
       "  </thead>\n",
       "  <tbody>\n",
       "    <tr>\n",
       "      <th>0</th>\n",
       "      <td>41</td>\n",
       "      <td>1</td>\n",
       "      <td>1102</td>\n",
       "      <td>1</td>\n",
       "      <td>2</td>\n",
       "      <td>1</td>\n",
       "      <td>1</td>\n",
       "      <td>2</td>\n",
       "      <td>0</td>\n",
       "      <td>94</td>\n",
       "      <td>...</td>\n",
       "      <td>False</td>\n",
       "      <td>False</td>\n",
       "      <td>False</td>\n",
       "      <td>False</td>\n",
       "      <td>False</td>\n",
       "      <td>False</td>\n",
       "      <td>True</td>\n",
       "      <td>False</td>\n",
       "      <td>False</td>\n",
       "      <td>True</td>\n",
       "    </tr>\n",
       "    <tr>\n",
       "      <th>1</th>\n",
       "      <td>49</td>\n",
       "      <td>0</td>\n",
       "      <td>279</td>\n",
       "      <td>8</td>\n",
       "      <td>1</td>\n",
       "      <td>1</td>\n",
       "      <td>2</td>\n",
       "      <td>3</td>\n",
       "      <td>1</td>\n",
       "      <td>61</td>\n",
       "      <td>...</td>\n",
       "      <td>False</td>\n",
       "      <td>False</td>\n",
       "      <td>False</td>\n",
       "      <td>False</td>\n",
       "      <td>False</td>\n",
       "      <td>True</td>\n",
       "      <td>False</td>\n",
       "      <td>False</td>\n",
       "      <td>True</td>\n",
       "      <td>False</td>\n",
       "    </tr>\n",
       "    <tr>\n",
       "      <th>2</th>\n",
       "      <td>37</td>\n",
       "      <td>1</td>\n",
       "      <td>1373</td>\n",
       "      <td>2</td>\n",
       "      <td>2</td>\n",
       "      <td>1</td>\n",
       "      <td>4</td>\n",
       "      <td>4</td>\n",
       "      <td>1</td>\n",
       "      <td>92</td>\n",
       "      <td>...</td>\n",
       "      <td>False</td>\n",
       "      <td>True</td>\n",
       "      <td>False</td>\n",
       "      <td>False</td>\n",
       "      <td>False</td>\n",
       "      <td>False</td>\n",
       "      <td>False</td>\n",
       "      <td>False</td>\n",
       "      <td>False</td>\n",
       "      <td>True</td>\n",
       "    </tr>\n",
       "    <tr>\n",
       "      <th>3</th>\n",
       "      <td>33</td>\n",
       "      <td>0</td>\n",
       "      <td>1392</td>\n",
       "      <td>3</td>\n",
       "      <td>4</td>\n",
       "      <td>1</td>\n",
       "      <td>5</td>\n",
       "      <td>4</td>\n",
       "      <td>0</td>\n",
       "      <td>56</td>\n",
       "      <td>...</td>\n",
       "      <td>False</td>\n",
       "      <td>False</td>\n",
       "      <td>False</td>\n",
       "      <td>False</td>\n",
       "      <td>False</td>\n",
       "      <td>True</td>\n",
       "      <td>False</td>\n",
       "      <td>False</td>\n",
       "      <td>True</td>\n",
       "      <td>False</td>\n",
       "    </tr>\n",
       "    <tr>\n",
       "      <th>4</th>\n",
       "      <td>27</td>\n",
       "      <td>0</td>\n",
       "      <td>591</td>\n",
       "      <td>2</td>\n",
       "      <td>1</td>\n",
       "      <td>1</td>\n",
       "      <td>7</td>\n",
       "      <td>1</td>\n",
       "      <td>1</td>\n",
       "      <td>40</td>\n",
       "      <td>...</td>\n",
       "      <td>False</td>\n",
       "      <td>True</td>\n",
       "      <td>False</td>\n",
       "      <td>False</td>\n",
       "      <td>False</td>\n",
       "      <td>False</td>\n",
       "      <td>False</td>\n",
       "      <td>False</td>\n",
       "      <td>True</td>\n",
       "      <td>False</td>\n",
       "    </tr>\n",
       "  </tbody>\n",
       "</table>\n",
       "<p>5 rows × 49 columns</p>\n",
       "</div>"
      ],
      "text/plain": [
       "   Age  Attrition  DailyRate  DistanceFromHome  Education  EmployeeCount  \\\n",
       "0   41          1       1102                 1          2              1   \n",
       "1   49          0        279                 8          1              1   \n",
       "2   37          1       1373                 2          2              1   \n",
       "3   33          0       1392                 3          4              1   \n",
       "4   27          0        591                 2          1              1   \n",
       "\n",
       "   EmployeeNumber  EnvironmentSatisfaction  Gender  HourlyRate  ...  \\\n",
       "0               1                        2       0          94  ...   \n",
       "1               2                        3       1          61  ...   \n",
       "2               4                        4       1          92  ...   \n",
       "3               5                        4       0          56  ...   \n",
       "4               7                        1       1          40  ...   \n",
       "\n",
       "   JobRole_Human Resources  JobRole_Laboratory Technician  JobRole_Manager  \\\n",
       "0                    False                          False            False   \n",
       "1                    False                          False            False   \n",
       "2                    False                           True            False   \n",
       "3                    False                          False            False   \n",
       "4                    False                           True            False   \n",
       "\n",
       "   JobRole_Manufacturing Director  JobRole_Research Director  \\\n",
       "0                           False                      False   \n",
       "1                           False                      False   \n",
       "2                           False                      False   \n",
       "3                           False                      False   \n",
       "4                           False                      False   \n",
       "\n",
       "   JobRole_Research Scientist  JobRole_Sales Executive  \\\n",
       "0                       False                     True   \n",
       "1                        True                    False   \n",
       "2                       False                    False   \n",
       "3                        True                    False   \n",
       "4                       False                    False   \n",
       "\n",
       "   JobRole_Sales Representative  MaritalStatus_Married  MaritalStatus_Single  \n",
       "0                         False                  False                  True  \n",
       "1                         False                   True                 False  \n",
       "2                         False                  False                  True  \n",
       "3                         False                   True                 False  \n",
       "4                         False                   True                 False  \n",
       "\n",
       "[5 rows x 49 columns]"
      ]
     },
     "execution_count": 10,
     "metadata": {},
     "output_type": "execute_result"
    }
   ],
   "source": [
    "##Apply one-hot Encoding for the actual columbs that exists:\n",
    "df = pd.get_dummies(df, columns = categorical_cols, drop_first = True)\n",
    "\n",
    "#Display\n",
    "df.head(5)"
   ]
  },
  {
   "cell_type": "code",
   "execution_count": 11,
   "id": "86c6355f",
   "metadata": {
    "execution": {
     "iopub.execute_input": "2024-10-16T08:59:09.072069Z",
     "iopub.status.busy": "2024-10-16T08:59:09.071557Z",
     "iopub.status.idle": "2024-10-16T08:59:09.078067Z",
     "shell.execute_reply": "2024-10-16T08:59:09.076922Z"
    },
    "papermill": {
     "duration": 0.023411,
     "end_time": "2024-10-16T08:59:09.080907",
     "exception": false,
     "start_time": "2024-10-16T08:59:09.057496",
     "status": "completed"
    },
    "tags": []
   },
   "outputs": [
    {
     "name": "stdout",
     "output_type": "stream",
     "text": [
      "current columns in the DataFrame:\n",
      " Index(['Age', 'Attrition', 'DailyRate', 'DistanceFromHome', 'Education',\n",
      "       'EmployeeCount', 'EmployeeNumber', 'EnvironmentSatisfaction', 'Gender',\n",
      "       'HourlyRate', 'JobInvolvement', 'JobLevel', 'JobSatisfaction',\n",
      "       'MonthlyIncome', 'MonthlyRate', 'NumCompaniesWorked', 'Over18',\n",
      "       'OverTime', 'PercentSalaryHike', 'PerformanceRating',\n",
      "       'RelationshipSatisfaction', 'StandardHours', 'StockOptionLevel',\n",
      "       'TotalWorkingYears', 'TrainingTimesLastYear', 'WorkLifeBalance',\n",
      "       'YearsAtCompany', 'YearsInCurrentRole', 'YearsSinceLastPromotion',\n",
      "       'YearsWithCurrManager', 'BusinessTravel_Travel_Frequently',\n",
      "       'BusinessTravel_Travel_Rarely', 'Department_Research & Development',\n",
      "       'Department_Sales', 'EducationField_Life Sciences',\n",
      "       'EducationField_Marketing', 'EducationField_Medical',\n",
      "       'EducationField_Other', 'EducationField_Technical Degree',\n",
      "       'JobRole_Human Resources', 'JobRole_Laboratory Technician',\n",
      "       'JobRole_Manager', 'JobRole_Manufacturing Director',\n",
      "       'JobRole_Research Director', 'JobRole_Research Scientist',\n",
      "       'JobRole_Sales Executive', 'JobRole_Sales Representative',\n",
      "       'MaritalStatus_Married', 'MaritalStatus_Single'],\n",
      "      dtype='object')\n"
     ]
    }
   ],
   "source": [
    "print(\"current columns in the DataFrame:\\n\", df.columns)"
   ]
  },
  {
   "cell_type": "code",
   "execution_count": 12,
   "id": "c5d3820f",
   "metadata": {
    "execution": {
     "iopub.execute_input": "2024-10-16T08:59:09.109000Z",
     "iopub.status.busy": "2024-10-16T08:59:09.108417Z",
     "iopub.status.idle": "2024-10-16T08:59:10.977198Z",
     "shell.execute_reply": "2024-10-16T08:59:10.974954Z"
    },
    "papermill": {
     "duration": 1.887025,
     "end_time": "2024-10-16T08:59:10.981132",
     "exception": false,
     "start_time": "2024-10-16T08:59:09.094107",
     "status": "completed"
    },
    "tags": []
   },
   "outputs": [
    {
     "data": {
      "image/png": "[encoded data removed]",
      "text/plain": [
       "<Figure size 1000x600 with 2 Axes>"
      ]
     },
     "metadata": {},
     "output_type": "display_data"
    },
    {
     "data": {
      "image/png": "[encoded data removed]",
      "text/plain": [
       "<Figure size 600x400 with 1 Axes>"
      ]
     },
     "metadata": {},
     "output_type": "display_data"
    },
    {
     "data": {
      "image/png": "[encoded data removed]",
      "text/plain": [
       "<Figure size 600x400 with 1 Axes>"
      ]
     },
     "metadata": {},
     "output_type": "display_data"
    },
    {
     "data": {
      "image/png": "[encoded data removed]",
      "text/plain": [
       "<Figure size 600x400 with 1 Axes>"
      ]
     },
     "metadata": {},
     "output_type": "display_data"
    },
    {
     "data": {
      "image/png": "[encoded data removed]",
      "text/plain": [
       "<Figure size 600x400 with 1 Axes>"
      ]
     },
     "metadata": {},
     "output_type": "display_data"
    }
   ],
   "source": [
    "##COrrelation analysis\n",
    "\n",
    "corr_matrix = df.corr()\n",
    "\n",
    "#Plotting the correlation through heatmap\n",
    "plt.figure(figsize=(10,6))\n",
    "sns.heatmap(corr_matrix[['Attrition']].sort_values(by='Attrition', ascending = False), annot=True, cmap='coolwarm', vmin =-1, vmax=1)\n",
    "plt.title(\"Correlation of Features with Attrition\", fontsize = 14)\n",
    "plt.show()\n",
    "\n",
    "##Visualizing Relations with key features:\n",
    "\n",
    "# 1. Job Satisfaction Vs Attrition:\n",
    "plt.figure(figsize=(6,4))\n",
    "sns.boxplot(x='Attrition', y='JobSatisfaction', data=df)\n",
    "plt.title('Job Satisfaction Vs Attrition', fontsize = 12)\n",
    "plt.xlabel('Attrition (0 = No, 1 = Yes)', fontsize = 10)\n",
    "plt.ylabel('Job Satisfaction', fontsize=10)\n",
    "plt.show()\n",
    "\n",
    "# 2.Overtime Vs Attiriton\n",
    "plt.figure(figsize=(6,4))\n",
    "sns.countplot(x='OverTime', hue='Attrition', data = df)\n",
    "plt.title('Overtime Vs Attrition', fontsize = 12)\n",
    "plt.xlabel('OverTime (0 = No, 1 = Yes)', fontsize = 10)\n",
    "plt.ylabel('Count', fontsize=10)\n",
    "plt.show()\n",
    "\n",
    "# 3.Monthly Income Vs Attrition:\n",
    "plt.figure(figsize=(6,4))\n",
    "sns.boxplot(x='Attrition', y='YearsAtCompany', data= df)\n",
    "plt.title('Years at Company Vs Attrition', fontsize=12)\n",
    "plt.xlabel('Attrition(0=No, 1=Yes)', fontsize=10)\n",
    "plt.ylabel('Monthly Income', fontsize=10)\n",
    "plt.show()\n",
    "\n",
    "# 4. Years at company Vs Attrition\n",
    "plt.figure(figsize=(6,4))\n",
    "sns.boxplot(x='Attrition', y='YearsAtCompany', data = df)\n",
    "plt.title('Years at Company Vs Attrition', fontsize=12)\n",
    "plt.xlabel('Attiriton(0 = No, 1 = Yes)', fontsize=10)\n",
    "plt.ylabel('Years at Company', fontsize=10)\n",
    "plt.show()"
   ]
  },
  {
   "cell_type": "code",
   "execution_count": 13,
   "id": "9b29b909",
   "metadata": {
    "execution": {
     "iopub.execute_input": "2024-10-16T08:59:11.037813Z",
     "iopub.status.busy": "2024-10-16T08:59:11.035997Z",
     "iopub.status.idle": "2024-10-16T08:59:11.049456Z",
     "shell.execute_reply": "2024-10-16T08:59:11.047545Z"
    },
    "papermill": {
     "duration": 0.046129,
     "end_time": "2024-10-16T08:59:11.054572",
     "exception": false,
     "start_time": "2024-10-16T08:59:11.008443",
     "status": "completed"
    },
    "tags": []
   },
   "outputs": [
    {
     "name": "stdout",
     "output_type": "stream",
     "text": [
      "Age                                  int64\n",
      "Attrition                            int64\n",
      "DailyRate                            int64\n",
      "DistanceFromHome                     int64\n",
      "Education                            int64\n",
      "EmployeeCount                        int64\n",
      "EmployeeNumber                       int64\n",
      "EnvironmentSatisfaction              int64\n",
      "Gender                               int64\n",
      "HourlyRate                           int64\n",
      "JobInvolvement                       int64\n",
      "JobLevel                             int64\n",
      "JobSatisfaction                      int64\n",
      "MonthlyIncome                        int64\n",
      "MonthlyRate                          int64\n",
      "NumCompaniesWorked                   int64\n",
      "Over18                               int64\n",
      "OverTime                             int64\n",
      "PercentSalaryHike                    int64\n",
      "PerformanceRating                    int64\n",
      "RelationshipSatisfaction             int64\n",
      "StandardHours                        int64\n",
      "StockOptionLevel                     int64\n",
      "TotalWorkingYears                    int64\n",
      "TrainingTimesLastYear                int64\n",
      "WorkLifeBalance                      int64\n",
      "YearsAtCompany                       int64\n",
      "YearsInCurrentRole                   int64\n",
      "YearsSinceLastPromotion              int64\n",
      "YearsWithCurrManager                 int64\n",
      "BusinessTravel_Travel_Frequently      bool\n",
      "BusinessTravel_Travel_Rarely          bool\n",
      "Department_Research & Development     bool\n",
      "Department_Sales                      bool\n",
      "EducationField_Life Sciences          bool\n",
      "EducationField_Marketing              bool\n",
      "EducationField_Medical                bool\n",
      "EducationField_Other                  bool\n",
      "EducationField_Technical Degree       bool\n",
      "JobRole_Human Resources               bool\n",
      "JobRole_Laboratory Technician         bool\n",
      "JobRole_Manager                       bool\n",
      "JobRole_Manufacturing Director        bool\n",
      "JobRole_Research Director             bool\n",
      "JobRole_Research Scientist            bool\n",
      "JobRole_Sales Executive               bool\n",
      "JobRole_Sales Representative          bool\n",
      "MaritalStatus_Married                 bool\n",
      "MaritalStatus_Single                  bool\n",
      "dtype: object\n"
     ]
    }
   ],
   "source": [
    "print(df.dtypes)"
   ]
  },
  {
   "cell_type": "code",
   "execution_count": 14,
   "id": "214b5b23",
   "metadata": {
    "execution": {
     "iopub.execute_input": "2024-10-16T08:59:11.097732Z",
     "iopub.status.busy": "2024-10-16T08:59:11.096681Z",
     "iopub.status.idle": "2024-10-16T08:59:11.128297Z",
     "shell.execute_reply": "2024-10-16T08:59:11.126519Z"
    },
    "papermill": {
     "duration": 0.059106,
     "end_time": "2024-10-16T08:59:11.132635",
     "exception": false,
     "start_time": "2024-10-16T08:59:11.073529",
     "status": "completed"
    },
    "tags": []
   },
   "outputs": [],
   "source": [
    "#Converting Boolean columns to Int:\n",
    "df = df.astype({col:'int' for col in df.select_dtypes('bool').columns})"
   ]
  },
  {
   "cell_type": "code",
   "execution_count": 15,
   "id": "4ff945fc",
   "metadata": {
    "execution": {
     "iopub.execute_input": "2024-10-16T08:59:11.177630Z",
     "iopub.status.busy": "2024-10-16T08:59:11.177092Z",
     "iopub.status.idle": "2024-10-16T08:59:11.188340Z",
     "shell.execute_reply": "2024-10-16T08:59:11.187099Z"
    },
    "papermill": {
     "duration": 0.036026,
     "end_time": "2024-10-16T08:59:11.191258",
     "exception": false,
     "start_time": "2024-10-16T08:59:11.155232",
     "status": "completed"
    },
    "tags": []
   },
   "outputs": [],
   "source": [
    "#Applying Hot-Encoding:\n",
    "df = pd.get_dummies(df, drop_first=True)"
   ]
  },
  {
   "cell_type": "code",
   "execution_count": 16,
   "id": "aa3d10bc",
   "metadata": {
    "execution": {
     "iopub.execute_input": "2024-10-16T08:59:11.228760Z",
     "iopub.status.busy": "2024-10-16T08:59:11.227513Z",
     "iopub.status.idle": "2024-10-16T08:59:11.277194Z",
     "shell.execute_reply": "2024-10-16T08:59:11.275730Z"
    },
    "papermill": {
     "duration": 0.070876,
     "end_time": "2024-10-16T08:59:11.279953",
     "exception": false,
     "start_time": "2024-10-16T08:59:11.209077",
     "status": "completed"
    },
    "tags": []
   },
   "outputs": [
    {
     "name": "stdout",
     "output_type": "stream",
     "text": [
      "All columns are numeric\n"
     ]
    },
    {
     "name": "stderr",
     "output_type": "stream",
     "text": [
      "/tmp/ipykernel_17/3673961225.py:2: FutureWarning: DataFrame.applymap has been deprecated. Use DataFrame.map instead.\n",
      "  non_numeric = df.applymap(lambda x: isinstance(x,str))\n"
     ]
    }
   ],
   "source": [
    "#Checking for non-numeric data:\n",
    "non_numeric = df.applymap(lambda x: isinstance(x,str))\n",
    "\n",
    "#Display columns with any string:\n",
    "if non_numeric.any().any():\n",
    "    print('Columns with non-numeric value:')\n",
    "    print(df.column[non_numeric.any()])\n",
    "else:\n",
    "    print('All columns are numeric')"
   ]
  },
  {
   "cell_type": "code",
   "execution_count": 17,
   "id": "ab39ca1d",
   "metadata": {
    "execution": {
     "iopub.execute_input": "2024-10-16T08:59:11.319058Z",
     "iopub.status.busy": "2024-10-16T08:59:11.318601Z",
     "iopub.status.idle": "2024-10-16T08:59:11.378673Z",
     "shell.execute_reply": "2024-10-16T08:59:11.377472Z"
    },
    "papermill": {
     "duration": 0.08337,
     "end_time": "2024-10-16T08:59:11.381965",
     "exception": false,
     "start_time": "2024-10-16T08:59:11.298595",
     "status": "completed"
    },
    "tags": []
   },
   "outputs": [],
   "source": [
    "##Finding non numeric \n",
    "for col in df.columns:\n",
    "    non_numeric_rows = df[df[col].apply(lambda x:isinstance(x, str))]\n",
    "    if len(non_numeric_rows) > 0:\n",
    "        print(f\"column{col} has non-numeroc values:\\n{non_numeric_rows}\")"
   ]
  },
  {
   "cell_type": "code",
   "execution_count": 18,
   "id": "797e4c31",
   "metadata": {
    "execution": {
     "iopub.execute_input": "2024-10-16T08:59:11.419496Z",
     "iopub.status.busy": "2024-10-16T08:59:11.418972Z",
     "iopub.status.idle": "2024-10-16T08:59:11.996683Z",
     "shell.execute_reply": "2024-10-16T08:59:11.994482Z"
    },
    "papermill": {
     "duration": 0.601227,
     "end_time": "2024-10-16T08:59:12.000715",
     "exception": false,
     "start_time": "2024-10-16T08:59:11.399488",
     "status": "completed"
    },
    "tags": []
   },
   "outputs": [
    {
     "name": "stdout",
     "output_type": "stream",
     "text": [
      "[[365   5]\n",
      " [ 61  10]]\n",
      "              precision    recall  f1-score   support\n",
      "\n",
      "           0       0.86      0.99      0.92       370\n",
      "           1       0.67      0.14      0.23        71\n",
      "\n",
      "    accuracy                           0.85       441\n",
      "   macro avg       0.76      0.56      0.57       441\n",
      "weighted avg       0.83      0.85      0.81       441\n",
      "\n",
      "ROC AUC Score: 0.5636657784545109\n"
     ]
    },
    {
     "name": "stderr",
     "output_type": "stream",
     "text": [
      "/opt/conda/lib/python3.10/site-packages/sklearn/linear_model/_logistic.py:458: ConvergenceWarning: lbfgs failed to converge (status=1):\n",
      "STOP: TOTAL NO. of ITERATIONS REACHED LIMIT.\n",
      "\n",
      "Increase the number of iterations (max_iter) or scale the data as shown in:\n",
      "    https://scikit-learn.org/stable/modules/preprocessing.html\n",
      "Please also refer to the documentation for alternative solver options:\n",
      "    https://scikit-learn.org/stable/modules/linear_model.html#logistic-regression\n",
      "  n_iter_i = _check_optimize_result(\n"
     ]
    }
   ],
   "source": [
    "#Predicting the Model\n",
    "\n",
    "#1. Data Preprocessing\n",
    "x = df.drop(['Attrition','EmployeeNumber'], axis=1)\n",
    "y = df['Attrition']\n",
    "\n",
    "#2.Train-test split(70% trian, 30% test)\n",
    "\n",
    "X_train, X_test, y_train, y_test = train_test_split(x,y, test_size = 0.3, random_state=42, stratify=y)\n",
    "\n",
    "#3.Train the logistic Regression model\n",
    "model = LogisticRegression(max_iter=1000, random_state=42)\n",
    "model.fit(X_train, y_train)\n",
    "\n",
    "#Making prediciton on the test model:\n",
    "y_pred = model.predict(X_test)\n",
    "\n",
    "#Evaluating the model:\n",
    "print(confusion_matrix(y_test, y_pred))\n",
    "print(classification_report(y_test, y_pred))\n",
    "print('ROC AUC Score:', roc_auc_score(y_test, y_pred))"
   ]
  },
  {
   "cell_type": "code",
   "execution_count": 19,
   "id": "3677d484",
   "metadata": {
    "execution": {
     "iopub.execute_input": "2024-10-16T08:59:12.062961Z",
     "iopub.status.busy": "2024-10-16T08:59:12.062333Z",
     "iopub.status.idle": "2024-10-16T08:59:12.269305Z",
     "shell.execute_reply": "2024-10-16T08:59:12.268030Z"
    },
    "papermill": {
     "duration": 0.242405,
     "end_time": "2024-10-16T08:59:12.272984",
     "exception": false,
     "start_time": "2024-10-16T08:59:12.030579",
     "status": "completed"
    },
    "tags": []
   },
   "outputs": [],
   "source": [
    "# Check if there are any hidden non-numeric values in the entire DataFrame\n",
    "for col in df.columns:\n",
    "    non_numeric_rows = df[~df[col].apply(lambda x: pd.api.types.is_numeric_dtype(type(x)))]\n",
    "    if not non_numeric_rows.empty:\n",
    "        print(f\"Column {col} contains non-numeric values:\\n{non_numeric_rows}\")\n"
   ]
  },
  {
   "cell_type": "code",
   "execution_count": 20,
   "id": "e42d368a",
   "metadata": {
    "execution": {
     "iopub.execute_input": "2024-10-16T08:59:12.310771Z",
     "iopub.status.busy": "2024-10-16T08:59:12.310360Z",
     "iopub.status.idle": "2024-10-16T08:59:12.316784Z",
     "shell.execute_reply": "2024-10-16T08:59:12.315649Z"
    },
    "papermill": {
     "duration": 0.029507,
     "end_time": "2024-10-16T08:59:12.320221",
     "exception": false,
     "start_time": "2024-10-16T08:59:12.290714",
     "status": "completed"
    },
    "tags": []
   },
   "outputs": [
    {
     "name": "stdout",
     "output_type": "stream",
     "text": [
      "Unique values in Attrition column: [1 0]\n"
     ]
    }
   ],
   "source": [
    "# Check the unique values in the 'Attrition' column\n",
    "print(\"Unique values in Attrition column:\", df['Attrition'].unique())\n"
   ]
  },
  {
   "cell_type": "code",
   "execution_count": 21,
   "id": "64df56b2",
   "metadata": {
    "execution": {
     "iopub.execute_input": "2024-10-16T08:59:12.357809Z",
     "iopub.status.busy": "2024-10-16T08:59:12.357388Z",
     "iopub.status.idle": "2024-10-16T08:59:12.849911Z",
     "shell.execute_reply": "2024-10-16T08:59:12.848415Z"
    },
    "papermill": {
     "duration": 0.5179,
     "end_time": "2024-10-16T08:59:12.856138",
     "exception": false,
     "start_time": "2024-10-16T08:59:12.338238",
     "status": "completed"
    },
    "tags": []
   },
   "outputs": [
    {
     "name": "stdout",
     "output_type": "stream",
     "text": [
      "[[365   5]\n",
      " [ 61  10]]\n",
      "              precision    recall  f1-score   support\n",
      "\n",
      "           0       0.86      0.99      0.92       370\n",
      "           1       0.67      0.14      0.23        71\n",
      "\n",
      "    accuracy                           0.85       441\n",
      "   macro avg       0.76      0.56      0.57       441\n",
      "weighted avg       0.83      0.85      0.81       441\n",
      "\n",
      "ROC AUC Score: 0.5636657784545109\n"
     ]
    },
    {
     "name": "stderr",
     "output_type": "stream",
     "text": [
      "/opt/conda/lib/python3.10/site-packages/sklearn/linear_model/_logistic.py:458: ConvergenceWarning: lbfgs failed to converge (status=1):\n",
      "STOP: TOTAL NO. of ITERATIONS REACHED LIMIT.\n",
      "\n",
      "Increase the number of iterations (max_iter) or scale the data as shown in:\n",
      "    https://scikit-learn.org/stable/modules/preprocessing.html\n",
      "Please also refer to the documentation for alternative solver options:\n",
      "    https://scikit-learn.org/stable/modules/linear_model.html#logistic-regression\n",
      "  n_iter_i = _check_optimize_result(\n"
     ]
    }
   ],
   "source": [
    "# Forcefully convert all columns to numeric and raise errors for problematic values\n",
    "df = df.apply(pd.to_numeric, errors='raise')\n",
    "\n",
    "# Re-run the train-test split and model training\n",
    "X = df.drop(['Attrition', 'EmployeeNumber'], axis=1)\n",
    "y = df['Attrition']\n",
    "\n",
    "X_train, X_test, y_train, y_test = train_test_split(X, y, test_size=0.3, random_state=42, stratify=y)\n",
    "\n",
    "model = LogisticRegression(max_iter=1000, random_state=42)\n",
    "model.fit(X_train, y_train)\n",
    "\n",
    "y_pred = model.predict(X_test)\n",
    "print(confusion_matrix(y_test, y_pred))\n",
    "print(classification_report(y_test, y_pred))\n",
    "print('ROC AUC Score:', roc_auc_score(y_test, y_pred))\n"
   ]
  },
  {
   "cell_type": "code",
   "execution_count": 22,
   "id": "369a690e",
   "metadata": {
    "execution": {
     "iopub.execute_input": "2024-10-16T08:59:12.919931Z",
     "iopub.status.busy": "2024-10-16T08:59:12.919359Z",
     "iopub.status.idle": "2024-10-16T08:59:13.245282Z",
     "shell.execute_reply": "2024-10-16T08:59:13.243633Z"
    },
    "papermill": {
     "duration": 0.361283,
     "end_time": "2024-10-16T08:59:13.249040",
     "exception": false,
     "start_time": "2024-10-16T08:59:12.887757",
     "status": "completed"
    },
    "tags": []
   },
   "outputs": [
    {
     "name": "stdout",
     "output_type": "stream",
     "text": [
      "[[277  92]\n",
      " [ 70 301]]\n",
      "              precision    recall  f1-score   support\n",
      "\n",
      "           0       0.80      0.75      0.77       369\n",
      "           1       0.77      0.81      0.79       371\n",
      "\n",
      "    accuracy                           0.78       740\n",
      "   macro avg       0.78      0.78      0.78       740\n",
      "weighted avg       0.78      0.78      0.78       740\n",
      "\n",
      "ROC AUC Score 0.7809991307460245\n"
     ]
    }
   ],
   "source": [
    "#Due to poor performace of the model the prediction is inacurate.\n",
    "#To balance the model we will be working on feature scaling:\n",
    "\n",
    "from imblearn.over_sampling import SMOTE\n",
    "from sklearn.preprocessing import StandardScaler\n",
    "\n",
    "#1. scale the feature\n",
    "scaler = StandardScaler()\n",
    "X_scaled = scaler.fit_transform(X)\n",
    "\n",
    "#2.Halde class imbalace with SMOTE\n",
    "smote = SMOTE(random_state=42)\n",
    "X_resampled, y_resampled = smote.fit_resample(X_scaled, y)\n",
    "\n",
    "#Train-test split after resampling:\n",
    "X_train, X_test, y_train, y_test = train_test_split(X_resampled, y_resampled, test_size=0.3, random_state = 42)\n",
    "\n",
    "#Train the logistic Regression model with more iterations:\n",
    "model = LogisticRegression(max_iter = 5000, random_state = 42)\n",
    "model.fit(X_train, y_train)\n",
    "\n",
    "##Prediction and Evaluation\n",
    "y_pred = model.predict(X_test)\n",
    "print(confusion_matrix(y_test, y_pred))\n",
    "print(classification_report(y_test, y_pred))\n",
    "print('ROC AUC Score', roc_auc_score(y_test, y_pred))\n"
   ]
  },
  {
   "cell_type": "code",
   "execution_count": null,
   "id": "7e197f4b",
   "metadata": {
    "execution": {
     "iopub.execute_input": "2024-10-16T07:20:39.608556Z",
     "iopub.status.busy": "2024-10-16T07:20:39.607668Z",
     "iopub.status.idle": "2024-10-16T07:20:39.613514Z",
     "shell.execute_reply": "2024-10-16T07:20:39.612469Z",
     "shell.execute_reply.started": "2024-10-16T07:20:39.608494Z"
    },
    "papermill": {
     "duration": 0.032058,
     "end_time": "2024-10-16T08:59:13.314143",
     "exception": false,
     "start_time": "2024-10-16T08:59:13.282085",
     "status": "completed"
    },
    "tags": []
   },
   "outputs": [],
   "source": []
  },
  {
   "cell_type": "markdown",
   "id": "55607a86",
   "metadata": {
    "papermill": {
     "duration": 0.017494,
     "end_time": "2024-10-16T08:59:13.361907",
     "exception": false,
     "start_time": "2024-10-16T08:59:13.344413",
     "status": "completed"
    },
    "tags": []
   },
   "source": [
    "True Negative(Correctly predicted employees who stayed).\n",
    "\n",
    "ROC AUC Score: 78% (Strong indicator that model is effective)"
   ]
  },
  {
   "cell_type": "code",
   "execution_count": 23,
   "id": "c267b689",
   "metadata": {
    "execution": {
     "iopub.execute_input": "2024-10-16T08:59:13.405909Z",
     "iopub.status.busy": "2024-10-16T08:59:13.404976Z",
     "iopub.status.idle": "2024-10-16T09:00:48.652504Z",
     "shell.execute_reply": "2024-10-16T09:00:48.650324Z"
    },
    "papermill": {
     "duration": 95.272441,
     "end_time": "2024-10-16T09:00:48.655228",
     "exception": true,
     "start_time": "2024-10-16T08:59:13.382787",
     "status": "failed"
    },
    "tags": []
   },
   "outputs": [
    {
     "name": "stdout",
     "output_type": "stream",
     "text": [
      "Fitting 5 folds for each of 50 candidates, totalling 250 fits\n",
      "Best parameters:{'n_estimators': 500, 'min_samples_split': 2, 'min_samples_leaf': 1, 'max_depth': 20, 'bootstrap': False}\n",
      "Best ROC AUC Score on Validation Set:0.9823740410444254\n"
     ]
    },
    {
     "ename": "AttributeError",
     "evalue": "'numpy.ndarray' object has no attribute 'columns'",
     "output_type": "error",
     "traceback": [
      "\u001b[0;31m---------------------------------------------------------------------------\u001b[0m",
      "\u001b[0;31mAttributeError\u001b[0m                            Traceback (most recent call last)",
      "Cell \u001b[0;32mIn[23], line 35\u001b[0m\n\u001b[1;32m     33\u001b[0m \u001b[38;5;66;03m#Features importances from the best random forest model\u001b[39;00m\n\u001b[1;32m     34\u001b[0m importances \u001b[38;5;241m=\u001b[39m rf_random\u001b[38;5;241m.\u001b[39mbest_estimator_\u001b[38;5;241m.\u001b[39mfeature_importances_\n\u001b[0;32m---> 35\u001b[0m featurs \u001b[38;5;241m=\u001b[39m \u001b[43mX_train\u001b[49m\u001b[38;5;241;43m.\u001b[39;49m\u001b[43mcolumns\u001b[49m\n\u001b[1;32m     37\u001b[0m \u001b[38;5;66;03m#Creating a dataset for feature importance:\u001b[39;00m\n\u001b[1;32m     38\u001b[0m feature_importance_df \u001b[38;5;241m=\u001b[39m pd\u001b[38;5;241m.\u001b[39mDataFrame({\u001b[38;5;124m'\u001b[39m\u001b[38;5;124mFeature\u001b[39m\u001b[38;5;124m'\u001b[39m: freatures, \u001b[38;5;124m'\u001b[39m\u001b[38;5;124mImportance\u001b[39m\u001b[38;5;124m'\u001b[39m: importances})\u001b[38;5;241m.\u001b[39msort_values(by\u001b[38;5;241m=\u001b[39m\u001b[38;5;124m'\u001b[39m\u001b[38;5;124mImportance\u001b[39m\u001b[38;5;124m'\u001b[39m, ascending \u001b[38;5;241m=\u001b[39m \u001b[38;5;28;01mFalse\u001b[39;00m)\n",
      "\u001b[0;31mAttributeError\u001b[0m: 'numpy.ndarray' object has no attribute 'columns'"
     ]
    }
   ],
   "source": [
    "##Selecting features for RandomForest:\n",
    "\n",
    "from sklearn.ensemble import RandomForestClassifier\n",
    "from sklearn.model_selection import RandomizedSearchCV\n",
    "from sklearn.metrics import classification_report, confusion_matrix, roc_auc_score\n",
    "\n",
    "##Initializing the random forest model:\n",
    "rf_model = RandomForestClassifier(random_state=42)\n",
    "\n",
    "\n",
    "#Defining the parameter grid for tuninig:\n",
    "param_grid = {\n",
    "    'n_estimators':[100,200,500],\n",
    "    'max_depth':[10,20,30,None],\n",
    "    'min_samples_split':[2,5,10],\n",
    "    'min_samples_leaf':[1,2,4],\n",
    "    'bootstrap':[True,False]\n",
    "}\n",
    "\n",
    "#3. RandomizedSearchCV to find the best Hyperparameters\n",
    "rf_random = RandomizedSearchCV(estimator = rf_model, param_distributions=param_grid, n_iter=50, cv=5, verbose=2, random_state=42, n_jobs=-1, scoring='roc_auc')\n",
    "\n",
    "#4. fit the random forest model:\n",
    "rf_random.fit(X_train, y_train)\n",
    "\n",
    "#5. Making predictions and evaluate the model\n",
    "y_pred = rf_random.best_estimator_.predict(X_test)\n",
    "\n",
    "#printing the best parameters and matrix:\n",
    "print(f\"Best parameters:{rf_random.best_params_}\")\n",
    "print(f\"Best ROC AUC Score on Validation Set:{rf_random.best_score_}\")\n",
    "\n",
    "#Features importances from the best random forest model\n",
    "importances = rf_random.best_estimator_.feature_importances_\n",
    "featurs = X_train.columns\n",
    "\n",
    "#Creating a dataset for feature importance:\n",
    "feature_importance_df = pd.DataFrame({'Feature': freatures, 'Importance': importances}).sort_values(by='Importance', ascending = False)\n",
    "\n",
    "#Displaying the top 10 Features:\n",
    "print(feature_importance_df.head(5))"
   ]
  },
  {
   "cell_type": "code",
   "execution_count": null,
   "id": "0e7d3497",
   "metadata": {
    "execution": {
     "iopub.execute_input": "2024-10-16T07:24:11.154381Z",
     "iopub.status.busy": "2024-10-16T07:24:11.153439Z",
     "iopub.status.idle": "2024-10-16T07:24:11.164012Z",
     "shell.execute_reply": "2024-10-16T07:24:11.162796Z",
     "shell.execute_reply.started": "2024-10-16T07:24:11.154331Z"
    },
    "papermill": {
     "duration": null,
     "end_time": null,
     "exception": null,
     "start_time": null,
     "status": "pending"
    },
    "tags": []
   },
   "outputs": [],
   "source": [
    "df['JobSatisfaction']"
   ]
  },
  {
   "cell_type": "markdown",
   "id": "a3e6db0a",
   "metadata": {
    "papermill": {
     "duration": null,
     "end_time": null,
     "exception": null,
     "start_time": null,
     "status": "pending"
    },
    "tags": []
   },
   "source": [
    "Q2. ***Is there a Relationship between job satisfaction and employee attrition?***"
   ]
  },
  {
   "cell_type": "code",
   "execution_count": null,
   "id": "b959aae6",
   "metadata": {
    "execution": {
     "iopub.execute_input": "2024-10-16T07:24:20.026078Z",
     "iopub.status.busy": "2024-10-16T07:24:20.025634Z",
     "iopub.status.idle": "2024-10-16T07:24:20.299379Z",
     "shell.execute_reply": "2024-10-16T07:24:20.298343Z",
     "shell.execute_reply.started": "2024-10-16T07:24:20.026035Z"
    },
    "papermill": {
     "duration": null,
     "end_time": null,
     "exception": null,
     "start_time": null,
     "status": "pending"
    },
    "tags": []
   },
   "outputs": [],
   "source": [
    "##Visuals of distributions of Job Satisfaction for employees who stayed Vs those who left\n",
    "\n",
    "plt.figure(figsize=(10,6))\n",
    "sns.boxplot(x='Attrition', y='JobSatisfaction', data = df)\n",
    "plt.title('Job Satisfaction Vs Attrition')\n",
    "plt.xlabel('Attrition(0 = Stayed, 1 = Left)')\n",
    "plt.ylabel('Job Satisfaction')\n",
    "plt.show()"
   ]
  },
  {
   "cell_type": "code",
   "execution_count": null,
   "id": "b9b3a713",
   "metadata": {
    "execution": {
     "iopub.execute_input": "2024-10-16T07:24:22.043860Z",
     "iopub.status.busy": "2024-10-16T07:24:22.043067Z",
     "iopub.status.idle": "2024-10-16T07:24:22.056922Z",
     "shell.execute_reply": "2024-10-16T07:24:22.055707Z",
     "shell.execute_reply.started": "2024-10-16T07:24:22.043815Z"
    },
    "papermill": {
     "duration": null,
     "end_time": null,
     "exception": null,
     "start_time": null,
     "status": "pending"
    },
    "tags": []
   },
   "outputs": [],
   "source": [
    "from scipy import stats\n",
    "\n",
    "#Separate employee who left and those who stayed:\n",
    "left = df[df['Attrition'] == 1]['JobSatisfaction']\n",
    "stayed = df[df['Attrition'] ==0]['JobSatisfaction']\n",
    "\n",
    "#Performing a t-test to check if there is a significant difference:\n",
    "t_stat, p_value = stats.ttest_ind(left,stayed)\n",
    "\n",
    "print(f'T-statistcs:{t_stat}')\n",
    "print(f'P-value:{p_value}')"
   ]
  },
  {
   "cell_type": "code",
   "execution_count": null,
   "id": "85792ebd",
   "metadata": {
    "execution": {
     "iopub.execute_input": "2024-10-16T07:24:23.974910Z",
     "iopub.status.busy": "2024-10-16T07:24:23.973989Z",
     "iopub.status.idle": "2024-10-16T07:24:24.293127Z",
     "shell.execute_reply": "2024-10-16T07:24:24.291976Z",
     "shell.execute_reply.started": "2024-10-16T07:24:23.974837Z"
    },
    "papermill": {
     "duration": null,
     "end_time": null,
     "exception": null,
     "start_time": null,
     "status": "pending"
    },
    "tags": []
   },
   "outputs": [],
   "source": [
    "#Modeling the impact of job satisfaction:\n",
    "\n",
    "#Random forest model training to check the importance of Job Satisfaction:\n",
    "\n",
    "#defining feature x and target y:\n",
    "x = df.drop(['Attrition','EmployeeNumber'], axis=1)\n",
    "y = df['Attrition']\n",
    "\n",
    "#Train-test split method:\n",
    "X_train, X_test, y_train, y_test = train_test_split(x,y, test_size=0.3, random_state=42, stratify=y)\n",
    "\n",
    "#Training the random forest model:\n",
    "rf_model = RandomForestClassifier(random_state=42)\n",
    "rf_model.fit(X_train, y_train)\n",
    "\n",
    "#Get feature importance:\n",
    "importances = rf_model.feature_importances_\n",
    "features = X_train.columns\n",
    "\n",
    "#Creating a DF for feature importance:\n",
    "feature_importance_df = pd.DataFrame({'Feature': features, 'Importance': importances}).sort_values(by='Importance', ascending = False)\n",
    "\n",
    "print(feature_importance_df[feature_importance_df['Feature']=='JobSatisfaction'])\n"
   ]
  },
  {
   "cell_type": "markdown",
   "id": "bec53ec5",
   "metadata": {
    "papermill": {
     "duration": null,
     "end_time": null,
     "exception": null,
     "start_time": null,
     "status": "pending"
    },
    "tags": []
   },
   "source": [
    "Conclusion:\n",
    "\n",
    ">>The statistical analysis (t-test) showed that there is a significant relationship between Job Satisfaction and Attrition (employees who left had lower job satisfaction).\n",
    "\n",
    ">>However, according to the Random Forest feature importance, Job Satisfaction alone is not a major driver of attrition compared to other factors in dataset.\n"
   ]
  },
  {
   "cell_type": "markdown",
   "id": "7a984c82",
   "metadata": {
    "papermill": {
     "duration": null,
     "end_time": null,
     "exception": null,
     "start_time": null,
     "status": "pending"
    },
    "tags": []
   },
   "source": [
    "Q3. ***Which department has the highest employee turnover?***"
   ]
  },
  {
   "cell_type": "code",
   "execution_count": null,
   "id": "9b2b5600",
   "metadata": {
    "execution": {
     "iopub.status.busy": "2024-10-16T08:39:19.323098Z",
     "iopub.status.idle": "2024-10-16T08:39:19.323541Z",
     "shell.execute_reply": "2024-10-16T08:39:19.323351Z",
     "shell.execute_reply.started": "2024-10-16T08:39:19.323329Z"
    },
    "papermill": {
     "duration": null,
     "end_time": null,
     "exception": null,
     "start_time": null,
     "status": "pending"
    },
    "tags": []
   },
   "outputs": [],
   "source": [
    "#Group by department and calculatinf the attrition rate %\n",
    "\n",
    "attrition_by_dept = df.groupby('Department')['Attrition'].mean()*100\n",
    "\n",
    "#Sorting department by attrition rate in desc:\n",
    "attrition_by_dept = attrition_by_dept.sort_values(asceding = False)\n",
    "\n",
    "print(attrition_by_dept)\n"
   ]
  },
  {
   "cell_type": "code",
   "execution_count": null,
   "id": "13470ec1",
   "metadata": {
    "execution": {
     "iopub.execute_input": "2024-10-16T07:33:55.989974Z",
     "iopub.status.busy": "2024-10-16T07:33:55.989497Z",
     "iopub.status.idle": "2024-10-16T07:33:56.002710Z",
     "shell.execute_reply": "2024-10-16T07:33:56.001643Z",
     "shell.execute_reply.started": "2024-10-16T07:33:55.989929Z"
    },
    "papermill": {
     "duration": null,
     "end_time": null,
     "exception": null,
     "start_time": null,
     "status": "pending"
    },
    "tags": []
   },
   "outputs": [],
   "source": [
    "df.info()"
   ]
  },
  {
   "cell_type": "code",
   "execution_count": null,
   "id": "f48816a2",
   "metadata": {
    "execution": {
     "iopub.status.busy": "2024-10-16T08:39:19.324790Z",
     "iopub.status.idle": "2024-10-16T08:39:19.325225Z",
     "shell.execute_reply": "2024-10-16T08:39:19.325040Z",
     "shell.execute_reply.started": "2024-10-16T08:39:19.325018Z"
    },
    "papermill": {
     "duration": null,
     "end_time": null,
     "exception": null,
     "start_time": null,
     "status": "pending"
    },
    "tags": []
   },
   "outputs": [],
   "source": [
    "#Reconstructing the department columns:\n",
    "\n",
    "\n",
    "department_mapping = {\n",
    "    'Department_Sales':'Sales',\n",
    "    'Department_Research & Development': 'Research & Development'\n",
    "}\n",
    "\n",
    "##Reconstructing the department column by checking which one-hot encoded column has a value of 1:\n",
    "df['Department'] = df[['Department_Sales','Department_Research & Development']].idxmax(axis=1)\n",
    "\n",
    "#Mapping the one-hot encoded column names back to the original department:\n",
    "df['Department'] = df['Department'].map(department_mapping)\n",
    "\n",
    "\n",
    "print(df[['Department', 'Department_Sales', 'Department_research & Development']].head())\n",
    "##Grouping by Department and calculating the attrition rate%:\n",
    "\n",
    "#attrition_by_dept = df.groupby('Department')['Attrition'].mean * 100"
   ]
  },
  {
   "cell_type": "code",
   "execution_count": null,
   "id": "3bd0680a",
   "metadata": {
    "execution": {
     "iopub.execute_input": "2024-10-16T07:34:08.691928Z",
     "iopub.status.busy": "2024-10-16T07:34:08.691423Z",
     "iopub.status.idle": "2024-10-16T07:34:08.721093Z",
     "shell.execute_reply": "2024-10-16T07:34:08.719616Z",
     "shell.execute_reply.started": "2024-10-16T07:34:08.691864Z"
    },
    "papermill": {
     "duration": null,
     "end_time": null,
     "exception": null,
     "start_time": null,
     "status": "pending"
    },
    "tags": []
   },
   "outputs": [],
   "source": [
    "def get_department(row):\n",
    "    if row['Department_Research & Development'] == 1:\n",
    "        return 'Research & Development'\n",
    "    elif row['Department_Sales'] == 1:\n",
    "        return 'Sales'\n",
    "    \n",
    "df['Department'] = df.apply(get_department, axis=1)\n",
    "print(df[['Department', 'Department_Sales', 'Department_Research & Development', 'Department_Sales']].head())"
   ]
  },
  {
   "cell_type": "code",
   "execution_count": null,
   "id": "959b074f",
   "metadata": {
    "execution": {
     "iopub.execute_input": "2024-10-16T07:34:13.418027Z",
     "iopub.status.busy": "2024-10-16T07:34:13.417548Z",
     "iopub.status.idle": "2024-10-16T07:34:13.428891Z",
     "shell.execute_reply": "2024-10-16T07:34:13.427660Z",
     "shell.execute_reply.started": "2024-10-16T07:34:13.417966Z"
    },
    "papermill": {
     "duration": null,
     "end_time": null,
     "exception": null,
     "start_time": null,
     "status": "pending"
    },
    "tags": []
   },
   "outputs": [],
   "source": [
    "##Grouping by department and calculating the attrition rate%:\n",
    "attrition_by_dept = df.groupby('Department')['Attrition'].mean() * 100\n",
    "\n",
    "#Sorting departments by attrition rate:\n",
    "attrition_by_dept = attrition_by_dept.sort_values(ascending = False)\n",
    "\n",
    "print(attrition_by_dept)"
   ]
  },
  {
   "cell_type": "code",
   "execution_count": null,
   "id": "9deea490",
   "metadata": {
    "execution": {
     "iopub.execute_input": "2024-10-16T07:34:16.040021Z",
     "iopub.status.busy": "2024-10-16T07:34:16.039592Z",
     "iopub.status.idle": "2024-10-16T07:34:16.334394Z",
     "shell.execute_reply": "2024-10-16T07:34:16.333202Z",
     "shell.execute_reply.started": "2024-10-16T07:34:16.039982Z"
    },
    "papermill": {
     "duration": null,
     "end_time": null,
     "exception": null,
     "start_time": null,
     "status": "pending"
    },
    "tags": []
   },
   "outputs": [],
   "source": [
    "##Plotting the attrtion rate by department using bar chart:\n",
    "\n",
    "plt.figure(figsize=(10,6))\n",
    "attrition_by_dept.plot(kind='bar', color = 'skyblue')\n",
    "plt.title('Attrition Rate by Department')\n",
    "plt.xlabel('Department')\n",
    "plt.ylabel('Attrition Rate in (%)')\n",
    "plt.xticks(rotation=45)\n",
    "plt.show()"
   ]
  },
  {
   "cell_type": "markdown",
   "id": "fc23e4e9",
   "metadata": {
    "papermill": {
     "duration": null,
     "end_time": null,
     "exception": null,
     "start_time": null,
     "status": "pending"
    },
    "tags": []
   },
   "source": [
    "Results:\n",
    "    \n",
    "1.\tT-statistic: -5.196\n",
    "    \n",
    "o\tThe t-statistic shows that there is a large difference in the number of years at the company between employees who left and those who stayed. \n",
    "A negative t-statistic indicates that employees who left tend to have fewer years at the company than those who stayed.\n",
    "\n",
    "2.\tP-value: 2.3188716103863036e-07\n",
    "    \n",
    "o\tThe p-value is extremely small (much less than 0.05), \n",
    "which means the difference in YearsAtCompany between employees who left and those who stayed is statistically significant.\n",
    "\n",
    "o\tIn other words, the number of years at the company has a significant impact on whether employees leave."
   ]
  },
  {
   "cell_type": "markdown",
   "id": "17cfaf71",
   "metadata": {
    "papermill": {
     "duration": null,
     "end_time": null,
     "exception": null,
     "start_time": null,
     "status": "pending"
    },
    "tags": []
   },
   "source": [
    "Q4. ***How does the number of years at the company impact attrition?***"
   ]
  },
  {
   "cell_type": "code",
   "execution_count": null,
   "id": "c97f03c9",
   "metadata": {
    "execution": {
     "iopub.execute_input": "2024-10-16T07:34:48.127020Z",
     "iopub.status.busy": "2024-10-16T07:34:48.126575Z",
     "iopub.status.idle": "2024-10-16T07:34:48.393731Z",
     "shell.execute_reply": "2024-10-16T07:34:48.392491Z",
     "shell.execute_reply.started": "2024-10-16T07:34:48.126980Z"
    },
    "papermill": {
     "duration": null,
     "end_time": null,
     "exception": null,
     "start_time": null,
     "status": "pending"
    },
    "tags": []
   },
   "outputs": [],
   "source": [
    "#Visualizing Attrition Vs YearsAtComapny:\n",
    "\n",
    "#Plotting the distribution of yearsatcompany for employees who stayed and who left:\n",
    "plt.figure(figsize=(10,6))\n",
    "sns.boxplot(x='Attrition', y='YearsAtCompany', data=df)\n",
    "plt.title('Attrition Vs Years at Company')\n",
    "plt.xlabel('Attrition(0 = Stayed, 1 = left)')\n",
    "plt.ylabel('Years at company')\n",
    "plt.show()"
   ]
  },
  {
   "cell_type": "code",
   "execution_count": null,
   "id": "d0094127",
   "metadata": {
    "execution": {
     "iopub.execute_input": "2024-10-16T07:34:53.825777Z",
     "iopub.status.busy": "2024-10-16T07:34:53.824936Z",
     "iopub.status.idle": "2024-10-16T07:34:53.838508Z",
     "shell.execute_reply": "2024-10-16T07:34:53.837326Z",
     "shell.execute_reply.started": "2024-10-16T07:34:53.825734Z"
    },
    "papermill": {
     "duration": null,
     "end_time": null,
     "exception": null,
     "start_time": null,
     "status": "pending"
    },
    "tags": []
   },
   "outputs": [],
   "source": [
    "from scipy import stats\n",
    "\n",
    "#Separating the data into employees who ledt and who stayed:\n",
    "\n",
    "left = df[df['Attrition'] ==1]['YearsAtCompany']\n",
    "stayed = df[df['Attrition'] == 0]['YearsAtCompany']\n",
    "\n",
    "#T-Test \n",
    "t_stat, p_value = stats.ttest_ind(left,stayed)\n",
    "print(f\"T-statistics:{t_stat}\")\n",
    "print(f\"P-value:{p_value}\")"
   ]
  },
  {
   "cell_type": "code",
   "execution_count": null,
   "id": "c16a7aec",
   "metadata": {
    "execution": {
     "iopub.execute_input": "2024-10-16T07:38:01.445950Z",
     "iopub.status.busy": "2024-10-16T07:38:01.445509Z",
     "iopub.status.idle": "2024-10-16T07:38:01.462129Z",
     "shell.execute_reply": "2024-10-16T07:38:01.460927Z",
     "shell.execute_reply.started": "2024-10-16T07:38:01.445903Z"
    },
    "papermill": {
     "duration": null,
     "end_time": null,
     "exception": null,
     "start_time": null,
     "status": "pending"
    },
    "tags": []
   },
   "outputs": [],
   "source": [
    "#Building Logisitic Regression Model:\n",
    "\n",
    "from sklearn.preprocessing import StandardScaler\n",
    "\n",
    "#Selecting the freatures for the model:\n",
    "\n",
    "features = ['YearsAtCompany','JobSatisfaction', 'OverTime','MonthlyIncome']\n",
    "x=df[features] #Independent variableS(feature)\n",
    "y=df['Attrition'] #Dependent variable\n",
    "\n",
    "#Splitting the data into training and testing sets (70% train, 30%test)\n",
    "\n",
    "X_train, X_test, y_train, y_test = train_test_split(x,y, test_size=0.3, random_state=42, stratify=y)\n",
    "\n",
    "#Standardize the data(logisitc Regression)\n",
    "\n",
    "scaler = StandardScaler()\n",
    "X_train = scaler.fit_transform(X_train)\n",
    "x_test = scaler.transform(X_test)"
   ]
  },
  {
   "cell_type": "code",
   "execution_count": null,
   "id": "c4ca4f67",
   "metadata": {
    "execution": {
     "iopub.execute_input": "2024-10-16T07:37:59.433731Z",
     "iopub.status.busy": "2024-10-16T07:37:59.433286Z",
     "iopub.status.idle": "2024-10-16T07:37:59.456796Z",
     "shell.execute_reply": "2024-10-16T07:37:59.455611Z",
     "shell.execute_reply.started": "2024-10-16T07:37:59.433691Z"
    },
    "papermill": {
     "duration": null,
     "end_time": null,
     "exception": null,
     "start_time": null,
     "status": "pending"
    },
    "tags": []
   },
   "outputs": [],
   "source": [
    "#Training logistic regression:\n",
    "logreg = LogisticRegression(max_iter=10, random_state = 42)\n",
    "\n",
    "#training the model on the training data:\n",
    "logreg.fit(X_train, y_train)\n",
    "\n",
    "#Evaluating the model:\n",
    "y_pred = logreg.predict(X_test)\n",
    "\n",
    "print(classification_report(y_test, y_pred))"
   ]
  },
  {
   "cell_type": "code",
   "execution_count": null,
   "id": "21adb001",
   "metadata": {
    "execution": {
     "iopub.execute_input": "2024-10-16T07:36:36.419078Z",
     "iopub.status.busy": "2024-10-16T07:36:36.418115Z",
     "iopub.status.idle": "2024-10-16T07:36:36.448071Z",
     "shell.execute_reply": "2024-10-16T07:36:36.447033Z",
     "shell.execute_reply.started": "2024-10-16T07:36:36.419023Z"
    },
    "papermill": {
     "duration": null,
     "end_time": null,
     "exception": null,
     "start_time": null,
     "status": "pending"
    },
    "tags": []
   },
   "outputs": [],
   "source": [
    "#Over-sampling using Attrition and YearsAtCompany Variables:\n",
    "\n",
    "from imblearn.over_sampling import SMOTE\n",
    "from sklearn.metrics import classification_report, roc_auc_score\n",
    "\n",
    "#\n",
    "smote = SMOTE(random_state=42)\n",
    "\n",
    "#Applying  SMOTE\n",
    "X_train_resampled, y_train_resampled = smote.fit_resample(X_train, y_train)\n",
    "\n",
    "#training the logisitc regression model:\n",
    "\n",
    "logreg.fit(X_train_resampled, y_train_resampled)\n",
    "\n",
    "#evaluation\n",
    "p_pred = logreg.predict(X_test)\n",
    "print(classification_report(y_test, y_pred))\n",
    "print(f'ROC AUC Score:{roc_auc_score(y_test, y_pred)}')"
   ]
  },
  {
   "cell_type": "code",
   "execution_count": null,
   "id": "839f8252",
   "metadata": {
    "execution": {
     "iopub.execute_input": "2024-10-16T07:44:36.506960Z",
     "iopub.status.busy": "2024-10-16T07:44:36.506520Z",
     "iopub.status.idle": "2024-10-16T07:44:36.858110Z",
     "shell.execute_reply": "2024-10-16T07:44:36.857050Z",
     "shell.execute_reply.started": "2024-10-16T07:44:36.506916Z"
    },
    "papermill": {
     "duration": null,
     "end_time": null,
     "exception": null,
     "start_time": null,
     "status": "pending"
    },
    "tags": []
   },
   "outputs": [],
   "source": [
    "#Random forest with clas weight:\n",
    "from sklearn.ensemble import RandomForestClassifier\n",
    "\n",
    "#Initalizing the random forest model with class weights to handle imablance data:\n",
    "rf = RandomForestClassifier(n_estimators = 100, random_state = 42, class_weight = 'balanced')\n",
    "\n",
    "#Training the model on the training data:\n",
    "rf.fit(X_train_resampled, y_train_resampled)\n",
    "\n",
    "#Predicting the test set:\n",
    "y_pred_rf = rf.predict(X_test)\n",
    "\n",
    "#Evaluating the model:\n",
    "print(classification_report(y_test, y_pred_rf))\n",
    "print(f\"ROC AUC Score: {roc_auc_score(y_test, y_pred_rf)}\")"
   ]
  },
  {
   "cell_type": "code",
   "execution_count": null,
   "id": "b6ccb58c",
   "metadata": {
    "papermill": {
     "duration": null,
     "end_time": null,
     "exception": null,
     "start_time": null,
     "status": "pending"
    },
    "tags": []
   },
   "outputs": [],
   "source": []
  },
  {
   "cell_type": "markdown",
   "id": "335dc17e",
   "metadata": {
    "papermill": {
     "duration": null,
     "end_time": null,
     "exception": null,
     "start_time": null,
     "status": "pending"
    },
    "tags": []
   },
   "source": [
    "Q5. **Can we predict attrition based on salary and compensation variables (e.g., monthly income, percent salary hike)?**"
   ]
  },
  {
   "cell_type": "code",
   "execution_count": null,
   "id": "b333945d",
   "metadata": {
    "execution": {
     "iopub.execute_input": "2024-10-16T07:50:44.942320Z",
     "iopub.status.busy": "2024-10-16T07:50:44.941844Z",
     "iopub.status.idle": "2024-10-16T07:50:45.179029Z",
     "shell.execute_reply": "2024-10-16T07:50:45.177683Z",
     "shell.execute_reply.started": "2024-10-16T07:50:44.942278Z"
    },
    "papermill": {
     "duration": null,
     "end_time": null,
     "exception": null,
     "start_time": null,
     "status": "pending"
    },
    "tags": []
   },
   "outputs": [],
   "source": [
    "#Visualizing the relationships MonthlyIncome Vs Attrition and %salaryHike Vs Attrition:\n",
    "\n",
    "\n",
    "##Boxplot for MonthlyIncome Vs Attrition:\n",
    "plt.figure(figsize=(10,6))\n",
    "sns.boxplot(x='Attrition', y='MonthlyIncome', data = df)\n",
    "plt.title('Monthly Income Vs Attrition')\n",
    "plt.xlabel('Attrition(0 = stayed, 1= left)')\n",
    "plt.ylabel('Monthly Income')\n",
    "plt.show()"
   ]
  },
  {
   "cell_type": "code",
   "execution_count": null,
   "id": "cb3c5341",
   "metadata": {
    "execution": {
     "iopub.execute_input": "2024-10-16T07:53:24.347905Z",
     "iopub.status.busy": "2024-10-16T07:53:24.346817Z",
     "iopub.status.idle": "2024-10-16T07:53:24.872305Z",
     "shell.execute_reply": "2024-10-16T07:53:24.871106Z",
     "shell.execute_reply.started": "2024-10-16T07:53:24.347831Z"
    },
    "papermill": {
     "duration": null,
     "end_time": null,
     "exception": null,
     "start_time": null,
     "status": "pending"
    },
    "tags": []
   },
   "outputs": [],
   "source": [
    "##Boxplot for percentage Salary Hike Vs Attrition:\n",
    "\n",
    "plt.figure(figsize=(10,6))\n",
    "sns.boxplot(x='Attrition', y='PercentSalaryHike', data = df)\n",
    "plt.title('Percent Salary Hike Vs Attrition')\n",
    "plt.xlabel('Attrition (0 = Stayed, 1 = Left)')\n",
    "plt.ylabel('Percent Salary Hike')\n",
    "plt.show()"
   ]
  },
  {
   "cell_type": "code",
   "execution_count": null,
   "id": "fcacb49f",
   "metadata": {
    "execution": {
     "iopub.execute_input": "2024-10-16T07:59:55.895215Z",
     "iopub.status.busy": "2024-10-16T07:59:55.894669Z",
     "iopub.status.idle": "2024-10-16T07:59:55.910207Z",
     "shell.execute_reply": "2024-10-16T07:59:55.909042Z",
     "shell.execute_reply.started": "2024-10-16T07:59:55.895154Z"
    },
    "papermill": {
     "duration": null,
     "end_time": null,
     "exception": null,
     "start_time": null,
     "status": "pending"
    },
    "tags": []
   },
   "outputs": [],
   "source": [
    "##Performing t-test to check if there are significant differences in MonthlyIncome and PercentSalaryHike between employees who left and those who stayed.\n",
    "\n",
    "from scipy import stats\n",
    "\n",
    "#Separating the data into employees who left and who stayed:\n",
    "left_income = df[df['Attrition'] == 1]['MonthlyIncome']\n",
    "stayed_income = df[df['Attrition'] == 0]['MonthlyIncome']\n",
    "\n",
    "#Perforing a t-test for MonthlyIncome:\n",
    "t_stat_income, p_value_income = stats.ttest_ind(left_income, stayed_income)\n",
    "\n",
    "print(f\"T-statistics for Monthly Income: {t_stat_income}\")\n",
    "print(f\"P-Value for Monthly Income: {p_value_income}\")"
   ]
  },
  {
   "cell_type": "markdown",
   "id": "5134d231",
   "metadata": {
    "papermill": {
     "duration": null,
     "end_time": null,
     "exception": null,
     "start_time": null,
     "status": "pending"
    },
    "tags": []
   },
   "source": [
    "***T-statistic: -6.20***\n",
    "\n",
    "This indicates a significant difference in the average Monthly Income between employees who left the company and those who stayed.\n",
    "The negative sign means that the average Monthly Income of employees who left is lower than that of employees who stayed.\n",
    "\n",
    "\n",
    "***P-value: 7.15e-10 (which is 0.000000000715)***\n",
    "\n",
    "The p-value is extremely small, much less than the typical significance level of 0.05, which means the difference in Monthly Income between the two groups is statistically significant.\n",
    "In other words, there is a strong indication that Monthly Income plays a role in employee attrition.\n",
    "\n",
    "***Conclusion:***\n",
    "The analysis shows that employees with lower Monthly Income are more likely to leave the company. This suggests that salary might be a factor influencing employee turnover, and increasing compensation could potentially help in reducing attrition."
   ]
  },
  {
   "cell_type": "markdown",
   "id": "1103d3b8",
   "metadata": {
    "papermill": {
     "duration": null,
     "end_time": null,
     "exception": null,
     "start_time": null,
     "status": "pending"
    },
    "tags": []
   },
   "source": [
    "***Over all Conclusion:***\n",
    "\n",
    "The analysis of employee attrition revealed several key insights. Factors such as job satisfaction, years at the company, and compensation significantly impact the likelihood of employees leaving. Certain departments exhibit higher attrition rates, indicating areas where retention efforts should be prioritized. The findings suggest that targeted strategies focusing on improving job satisfaction, adjusting compensation practices, and supporting employees with shorter tenures could help reduce attrition and enhance overall workforce stability. These insights provide a foundation for data-driven decisions aimed at improving employee retention."
   ]
  }
 ],
 "metadata": {
  "kaggle": {
   "accelerator": "none",
   "dataSources": [
    {
     "datasetId": 1067,
     "sourceId": 1925,
     "sourceType": "datasetVersion"
    }
   ],
   "dockerImageVersionId": 30786,
   "isGpuEnabled": false,
   "isInternetEnabled": true,
   "language": "python",
   "sourceType": "notebook"
  },
  "kernelspec": {
   "display_name": "Python 3",
   "language": "python",
   "name": "python3"
  },
  "language_info": {
   "codemirror_mode": {
    "name": "ipython",
    "version": 3
   },
   "file_extension": ".py",
   "mimetype": "text/x-python",
   "name": "python",
   "nbconvert_exporter": "python",
   "pygments_lexer": "ipython3",
   "version": "3.10.14"
  },
  "papermill": {
   "default_parameters": {},
   "duration": 109.180026,
   "end_time": "2024-10-16T09:00:51.296246",
   "environment_variables": {},
   "exception": true,
   "input_path": "__notebook__.ipynb",
   "output_path": "__notebook__.ipynb",
   "parameters": {},
   "start_time": "2024-10-16T08:59:02.116220",
   "version": "2.6.0"
  }
 },
 "nbformat": 4,
 "nbformat_minor": 5
}
